{
 "cells": [
  {
   "cell_type": "markdown",
   "id": "50d98770",
   "metadata": {},
   "source": [
    "# Plataforma para que menos personas de 65 años o más vivan solas"
   ]
  },
  {
   "cell_type": "markdown",
   "id": "3fce8982",
   "metadata": {},
   "source": [
    "## 🧾Data Science  \n",
    "\n",
    "Para los de Data tendréis el siguiente Dataset para poder utilizar, ofrecido por el ayuntamiento de Barcelona: https://opendata-ajuntament.barcelona.cat/data/ca/dataset/divter/resource/ed515bb8-502b-4dff-96dc-769f72767919  \n",
    "\n",
    "La tarea principal que tendréis es la de poder extraer la información de estos PDFs a un fichero de CSV. Esto será para que los de Back puedan conectar vuestros datos y realizar ellos las llamadas correspondientes.\n",
    "\n",
    "Una vez obtenidos los datos deberéis relacionar los diferentes parámetros a continuación para analizar cuales son las zonas de la ciudad donde hay más personas mayores viviendo solas en relación con la pobreza del barrio:\n",
    "\n",
    "- Nombre del barrio\n",
    "- Titulados superiores i CFGS\n",
    "- Número de parados\n",
    "- Renta familiar\n",
    "- Población de más de 65 años que vive sola\n",
    "- Índice de sobreenvejicimiento"
   ]
  },
  {
   "cell_type": "code",
   "execution_count": 1,
   "id": "0b7ba0ec",
   "metadata": {},
   "outputs": [],
   "source": [
    "#data exploration\n",
    "import pandas as pd\n",
    "import numpy as np\n",
    "import matplotlib.pyplot as plt\n",
    "import seaborn as sns\n",
    "import tabula\n",
    "import requests\n",
    "from tika import parser\n",
    "import PyPDF2"
   ]
  },
  {
   "cell_type": "markdown",
   "id": "35d6105a",
   "metadata": {},
   "source": [
    "**Abrir CSV**"
   ]
  },
  {
   "cell_type": "code",
   "execution_count": 2,
   "id": "8e145f9f",
   "metadata": {},
   "outputs": [
    {
     "data": {
      "text/html": [
       "<div>\n",
       "<style scoped>\n",
       "    .dataframe tbody tr th:only-of-type {\n",
       "        vertical-align: middle;\n",
       "    }\n",
       "\n",
       "    .dataframe tbody tr th {\n",
       "        vertical-align: top;\n",
       "    }\n",
       "\n",
       "    .dataframe thead th {\n",
       "        text-align: right;\n",
       "    }\n",
       "</style>\n",
       "<table border=\"1\" class=\"dataframe\">\n",
       "  <thead>\n",
       "    <tr style=\"text-align: right;\">\n",
       "      <th></th>\n",
       "      <th>CODI_DIVISIO_TERRITORIAL</th>\n",
       "      <th>NOM_DIVISIO_TERRITORIAL</th>\n",
       "      <th>CATEGORIA_DIVISIO</th>\n",
       "      <th>CODI_DIVISIO_TERRITORIAL_PARE</th>\n",
       "      <th>URL_FITXA_DIVISIO_TERRITORIAL</th>\n",
       "    </tr>\n",
       "  </thead>\n",
       "  <tbody>\n",
       "    <tr>\n",
       "      <th>0</th>\n",
       "      <td>B-01</td>\n",
       "      <td>el Raval</td>\n",
       "      <td>Barri</td>\n",
       "      <td>D-01</td>\n",
       "      <td>https://ajuntament.barcelona.cat/estadistica/c...</td>\n",
       "    </tr>\n",
       "    <tr>\n",
       "      <th>1</th>\n",
       "      <td>B-02</td>\n",
       "      <td>el Barri Gòtic</td>\n",
       "      <td>Barri</td>\n",
       "      <td>D-01</td>\n",
       "      <td>https://ajuntament.barcelona.cat/estadistica/c...</td>\n",
       "    </tr>\n",
       "    <tr>\n",
       "      <th>2</th>\n",
       "      <td>B-03</td>\n",
       "      <td>la Barceloneta</td>\n",
       "      <td>Barri</td>\n",
       "      <td>D-01</td>\n",
       "      <td>https://ajuntament.barcelona.cat/estadistica/c...</td>\n",
       "    </tr>\n",
       "    <tr>\n",
       "      <th>3</th>\n",
       "      <td>B-04</td>\n",
       "      <td>Sant Pere, Santa Caterina i la Ribera</td>\n",
       "      <td>Barri</td>\n",
       "      <td>D-01</td>\n",
       "      <td>https://ajuntament.barcelona.cat/estadistica/c...</td>\n",
       "    </tr>\n",
       "    <tr>\n",
       "      <th>4</th>\n",
       "      <td>B-05</td>\n",
       "      <td>el Fort Pienc</td>\n",
       "      <td>Barri</td>\n",
       "      <td>D-02</td>\n",
       "      <td>https://ajuntament.barcelona.cat/estadistica/c...</td>\n",
       "    </tr>\n",
       "  </tbody>\n",
       "</table>\n",
       "</div>"
      ],
      "text/plain": [
       "  CODI_DIVISIO_TERRITORIAL                NOM_DIVISIO_TERRITORIAL  \\\n",
       "0                     B-01                               el Raval   \n",
       "1                     B-02                         el Barri Gòtic   \n",
       "2                     B-03                         la Barceloneta   \n",
       "3                     B-04  Sant Pere, Santa Caterina i la Ribera   \n",
       "4                     B-05                          el Fort Pienc   \n",
       "\n",
       "  CATEGORIA_DIVISIO CODI_DIVISIO_TERRITORIAL_PARE  \\\n",
       "0             Barri                          D-01   \n",
       "1             Barri                          D-01   \n",
       "2             Barri                          D-01   \n",
       "3             Barri                          D-01   \n",
       "4             Barri                          D-02   \n",
       "\n",
       "                       URL_FITXA_DIVISIO_TERRITORIAL  \n",
       "0  https://ajuntament.barcelona.cat/estadistica/c...  \n",
       "1  https://ajuntament.barcelona.cat/estadistica/c...  \n",
       "2  https://ajuntament.barcelona.cat/estadistica/c...  \n",
       "3  https://ajuntament.barcelona.cat/estadistica/c...  \n",
       "4  https://ajuntament.barcelona.cat/estadistica/c...  "
      ]
     },
     "execution_count": 2,
     "metadata": {},
     "output_type": "execute_result"
    }
   ],
   "source": [
    "df = pd.read_csv(\"2019_divter.csv\")\n",
    "df.head (5)"
   ]
  },
  {
   "cell_type": "code",
   "execution_count": 3,
   "id": "9d2523a9",
   "metadata": {},
   "outputs": [
    {
     "data": {
      "text/plain": [
       "CODI_DIVISIO_TERRITORIAL         83\n",
       "NOM_DIVISIO_TERRITORIAL          82\n",
       "CATEGORIA_DIVISIO                 2\n",
       "CODI_DIVISIO_TERRITORIAL_PARE    10\n",
       "URL_FITXA_DIVISIO_TERRITORIAL    73\n",
       "dtype: int64"
      ]
     },
     "execution_count": 3,
     "metadata": {},
     "output_type": "execute_result"
    }
   ],
   "source": [
    "df.nunique()"
   ]
  },
  {
   "cell_type": "code",
   "execution_count": 4,
   "id": "bb0848bb",
   "metadata": {},
   "outputs": [
    {
     "name": "stdout",
     "output_type": "stream",
     "text": [
      "<class 'pandas.core.frame.DataFrame'>\n",
      "RangeIndex: 83 entries, 0 to 82\n",
      "Data columns (total 5 columns):\n",
      " #   Column                         Non-Null Count  Dtype \n",
      "---  ------                         --------------  ----- \n",
      " 0   CODI_DIVISIO_TERRITORIAL       83 non-null     object\n",
      " 1   NOM_DIVISIO_TERRITORIAL        83 non-null     object\n",
      " 2   CATEGORIA_DIVISIO              83 non-null     object\n",
      " 3   CODI_DIVISIO_TERRITORIAL_PARE  73 non-null     object\n",
      " 4   URL_FITXA_DIVISIO_TERRITORIAL  73 non-null     object\n",
      "dtypes: object(5)\n",
      "memory usage: 3.4+ KB\n"
     ]
    }
   ],
   "source": [
    "df.info()"
   ]
  },
  {
   "cell_type": "code",
   "execution_count": 5,
   "id": "a09d15b1",
   "metadata": {
    "scrolled": true
   },
   "outputs": [
    {
     "data": {
      "text/plain": [
       "CODI_DIVISIO_TERRITORIAL          0\n",
       "NOM_DIVISIO_TERRITORIAL           0\n",
       "CATEGORIA_DIVISIO                 0\n",
       "CODI_DIVISIO_TERRITORIAL_PARE    10\n",
       "URL_FITXA_DIVISIO_TERRITORIAL    10\n",
       "dtype: int64"
      ]
     },
     "execution_count": 5,
     "metadata": {},
     "output_type": "execute_result"
    }
   ],
   "source": [
    "df.isna().sum()"
   ]
  },
  {
   "cell_type": "markdown",
   "id": "ba28ea50",
   "metadata": {},
   "source": [
    "**Se eliminan las columnas que no tienen URL**"
   ]
  },
  {
   "cell_type": "code",
   "execution_count": 6,
   "id": "3c606455",
   "metadata": {},
   "outputs": [],
   "source": [
    "df = df.dropna()"
   ]
  },
  {
   "cell_type": "markdown",
   "id": "02ca95ed",
   "metadata": {},
   "source": [
    "**Crear DataFrame para almacenar los parámetros indicados**"
   ]
  },
  {
   "cell_type": "code",
   "execution_count": 7,
   "id": "c30213e5",
   "metadata": {},
   "outputs": [],
   "source": [
    "final = pd.DataFrame(columns = ['Nombre del barrio', \n",
    "                                     'Titulados superiores i CFGS',\n",
    "                                     'Poblacion > 65 años',\n",
    "                                     'Renta familiar', \n",
    "                                     'index',\n",
    "                                     'Numero de parados'])"
   ]
  },
  {
   "cell_type": "markdown",
   "id": "6b1170a8",
   "metadata": {},
   "source": [
    "**FOR LOOP para leer URL, descargar + leer + extraer datos del PDF**"
   ]
  },
  {
   "cell_type": "code",
   "execution_count": 8,
   "id": "e36edbd7",
   "metadata": {},
   "outputs": [],
   "source": [
    "for i, url in enumerate(df['URL_FITXA_DIVISIO_TERRITORIAL']):\n",
    "    myfile = requests.get(url, allow_redirects=True)\n",
    "    file_name = r'C:\\Users\\Pepo\\IT ACADEMY DATA SCIENCE\\HACKATLON OCTUBRE 2022\\Archivos pdf/' + str(i) + '.pdf'\n",
    "    with open(file_name, 'wb') as f:\n",
    "        f.write(myfile.content)\n",
    "      \n",
    "    # creating a pdf reader object\n",
    "    fileReader = PyPDF2.PdfFileReader(file_name)\n",
    "\n",
    "    text = ''\n",
    "    for page in fileReader.pages:\n",
    "        text += page.extract_text() + \"\\n\"\n",
    "        data = text.split('\\n') \n",
    "    \n",
    "    #for i, line in enumerate(data):\n",
    "    #print (i, data) - Con esto se puede observar fácilmente los índices\n",
    "    \n",
    "    final = final.append({'Nombre del barrio' : data[0].strip(),\n",
    "                        'Titulados superiores i CFGS' : data[32].split(' ')[-3],\n",
    "                        'Poblacion > 65 años' : data[34].split(' ')[-3],\n",
    "                        'Renta familiar' : data[40].split(' ')[-3],\n",
    "                        'index' : data[35].split(' ')[-3],\n",
    "                        'Numero de parados' : data[39].split(' ')[-3]}, \n",
    "                        ignore_index=True)       "
   ]
  },
  {
   "cell_type": "markdown",
   "id": "66a52a18",
   "metadata": {},
   "source": [
    "**Reviso mi DataFrame obtenido**"
   ]
  },
  {
   "cell_type": "code",
   "execution_count": 9,
   "id": "53e18aad",
   "metadata": {},
   "outputs": [
    {
     "data": {
      "text/html": [
       "<div>\n",
       "<style scoped>\n",
       "    .dataframe tbody tr th:only-of-type {\n",
       "        vertical-align: middle;\n",
       "    }\n",
       "\n",
       "    .dataframe tbody tr th {\n",
       "        vertical-align: top;\n",
       "    }\n",
       "\n",
       "    .dataframe thead th {\n",
       "        text-align: right;\n",
       "    }\n",
       "</style>\n",
       "<table border=\"1\" class=\"dataframe\">\n",
       "  <thead>\n",
       "    <tr style=\"text-align: right;\">\n",
       "      <th></th>\n",
       "      <th>Nombre del barrio</th>\n",
       "      <th>Titulados superiores i CFGS</th>\n",
       "      <th>Poblacion &gt; 65 años</th>\n",
       "      <th>Renta familiar</th>\n",
       "      <th>index</th>\n",
       "      <th>Numero de parados</th>\n",
       "    </tr>\n",
       "  </thead>\n",
       "  <tbody>\n",
       "    <tr>\n",
       "      <th>0</th>\n",
       "      <td>Barri el Raval</td>\n",
       "      <td>27,2</td>\n",
       "      <td>31,9</td>\n",
       "      <td>71,2</td>\n",
       "      <td>50,7</td>\n",
       "      <td>3.074</td>\n",
       "    </tr>\n",
       "    <tr>\n",
       "      <th>1</th>\n",
       "      <td>Barri el Barri Gòtic</td>\n",
       "      <td>32,7</td>\n",
       "      <td>30,2</td>\n",
       "      <td>106,1</td>\n",
       "      <td>50,2</td>\n",
       "      <td>892</td>\n",
       "    </tr>\n",
       "    <tr>\n",
       "      <th>2</th>\n",
       "      <td>Barri la Barceloneta</td>\n",
       "      <td>30,6</td>\n",
       "      <td>32,8</td>\n",
       "      <td>79,6</td>\n",
       "      <td>58,1</td>\n",
       "      <td>978</td>\n",
       "    </tr>\n",
       "    <tr>\n",
       "      <th>3</th>\n",
       "      <td>Barri Sant Pere, Santa Caterina i</td>\n",
       "      <td>788</td>\n",
       "      <td>6,3</td>\n",
       "      <td>1.346</td>\n",
       "      <td>33,6</td>\n",
       "      <td>28,1</td>\n",
       "    </tr>\n",
       "    <tr>\n",
       "      <th>4</th>\n",
       "      <td>Barri el Fort Pienc</td>\n",
       "      <td>40,4</td>\n",
       "      <td>25,3</td>\n",
       "      <td>106,5</td>\n",
       "      <td>52,3</td>\n",
       "      <td>1.156</td>\n",
       "    </tr>\n",
       "    <tr>\n",
       "      <th>5</th>\n",
       "      <td>Barri la Sagrada Família</td>\n",
       "      <td>39,5</td>\n",
       "      <td>27,5</td>\n",
       "      <td>101,8</td>\n",
       "      <td>53,5</td>\n",
       "      <td>1.917</td>\n",
       "    </tr>\n",
       "    <tr>\n",
       "      <th>6</th>\n",
       "      <td>Barri la Dreta de l’Eixample</td>\n",
       "      <td>52,8</td>\n",
       "      <td>27,1</td>\n",
       "      <td>175,9</td>\n",
       "      <td>54,0</td>\n",
       "      <td>1.255</td>\n",
       "    </tr>\n",
       "    <tr>\n",
       "      <th>7</th>\n",
       "      <td>Barri l’ Antiga Esquerra de</td>\n",
       "      <td>717</td>\n",
       "      <td>7,2</td>\n",
       "      <td>1.345</td>\n",
       "      <td>29,0</td>\n",
       "      <td>24,7</td>\n",
       "    </tr>\n",
       "    <tr>\n",
       "      <th>8</th>\n",
       "      <td>Barri la Nova Esquerra de</td>\n",
       "      <td>612</td>\n",
       "      <td>7,4</td>\n",
       "      <td>2.117</td>\n",
       "      <td>26,8</td>\n",
       "      <td>24,9</td>\n",
       "    </tr>\n",
       "    <tr>\n",
       "      <th>9</th>\n",
       "      <td>Barri Sant Antoni</td>\n",
       "      <td>38,9</td>\n",
       "      <td>28,5</td>\n",
       "      <td>104,2</td>\n",
       "      <td>56,4</td>\n",
       "      <td>1.535</td>\n",
       "    </tr>\n",
       "  </tbody>\n",
       "</table>\n",
       "</div>"
      ],
      "text/plain": [
       "                   Nombre del barrio Titulados superiores i CFGS  \\\n",
       "0                     Barri el Raval                        27,2   \n",
       "1               Barri el Barri Gòtic                        32,7   \n",
       "2               Barri la Barceloneta                        30,6   \n",
       "3  Barri Sant Pere, Santa Caterina i                         788   \n",
       "4                Barri el Fort Pienc                        40,4   \n",
       "5           Barri la Sagrada Família                        39,5   \n",
       "6       Barri la Dreta de l’Eixample                        52,8   \n",
       "7        Barri l’ Antiga Esquerra de                         717   \n",
       "8          Barri la Nova Esquerra de                         612   \n",
       "9                  Barri Sant Antoni                        38,9   \n",
       "\n",
       "  Poblacion > 65 años Renta familiar index Numero de parados  \n",
       "0                31,9           71,2  50,7             3.074  \n",
       "1                30,2          106,1  50,2               892  \n",
       "2                32,8           79,6  58,1               978  \n",
       "3                 6,3          1.346  33,6              28,1  \n",
       "4                25,3          106,5  52,3             1.156  \n",
       "5                27,5          101,8  53,5             1.917  \n",
       "6                27,1          175,9  54,0             1.255  \n",
       "7                 7,2          1.345  29,0              24,7  \n",
       "8                 7,4          2.117  26,8              24,9  \n",
       "9                28,5          104,2  56,4             1.535  "
      ]
     },
     "execution_count": 9,
     "metadata": {},
     "output_type": "execute_result"
    }
   ],
   "source": [
    "final.head(10)"
   ]
  },
  {
   "cell_type": "code",
   "execution_count": 10,
   "id": "b3e6d7a8",
   "metadata": {},
   "outputs": [
    {
     "data": {
      "text/plain": [
       "Nombre del barrio              73\n",
       "Titulados superiores i CFGS    70\n",
       "Poblacion > 65 años            60\n",
       "Renta familiar                 71\n",
       "index                          64\n",
       "Numero de parados              72\n",
       "dtype: int64"
      ]
     },
     "execution_count": 10,
     "metadata": {},
     "output_type": "execute_result"
    }
   ],
   "source": [
    "final.nunique()"
   ]
  },
  {
   "cell_type": "code",
   "execution_count": 11,
   "id": "99011f06",
   "metadata": {},
   "outputs": [
    {
     "data": {
      "text/plain": [
       "Nombre del barrio              0\n",
       "Titulados superiores i CFGS    0\n",
       "Poblacion > 65 años            0\n",
       "Renta familiar                 0\n",
       "index                          0\n",
       "Numero de parados              0\n",
       "dtype: int64"
      ]
     },
     "execution_count": 11,
     "metadata": {},
     "output_type": "execute_result"
    }
   ],
   "source": [
    "#null\n",
    "final.isnull().sum()"
   ]
  },
  {
   "cell_type": "code",
   "execution_count": 12,
   "id": "a6eec892",
   "metadata": {},
   "outputs": [
    {
     "data": {
      "text/plain": [
       "Nombre del barrio              0\n",
       "Titulados superiores i CFGS    0\n",
       "Poblacion > 65 años            0\n",
       "Renta familiar                 0\n",
       "index                          0\n",
       "Numero de parados              0\n",
       "dtype: int64"
      ]
     },
     "execution_count": 12,
     "metadata": {},
     "output_type": "execute_result"
    }
   ],
   "source": [
    "#NaN\n",
    "final.isna().sum()"
   ]
  },
  {
   "cell_type": "code",
   "execution_count": 13,
   "id": "89c94893",
   "metadata": {},
   "outputs": [
    {
     "name": "stdout",
     "output_type": "stream",
     "text": [
      "<class 'pandas.core.frame.DataFrame'>\n",
      "RangeIndex: 73 entries, 0 to 72\n",
      "Data columns (total 6 columns):\n",
      " #   Column                       Non-Null Count  Dtype \n",
      "---  ------                       --------------  ----- \n",
      " 0   Nombre del barrio            73 non-null     object\n",
      " 1   Titulados superiores i CFGS  73 non-null     object\n",
      " 2   Poblacion > 65 años          73 non-null     object\n",
      " 3   Renta familiar               73 non-null     object\n",
      " 4   index                        73 non-null     object\n",
      " 5   Numero de parados            73 non-null     object\n",
      "dtypes: object(6)\n",
      "memory usage: 3.5+ KB\n"
     ]
    }
   ],
   "source": [
    "final.info()"
   ]
  },
  {
   "cell_type": "markdown",
   "id": "95f54fcb",
   "metadata": {},
   "source": [
    "**Cambio Dtype de los parámetros**"
   ]
  },
  {
   "cell_type": "code",
   "execution_count": 18,
   "id": "b0f88b88",
   "metadata": {},
   "outputs": [
    {
     "name": "stderr",
     "output_type": "stream",
     "text": [
      "C:\\Users\\Pepo\\AppData\\Local\\Temp/ipykernel_9052/1821407289.py:7: FutureWarning: The default value of regex will change from True to False in a future version. In addition, single character regular expressions will *not* be treated as literal strings when regex=True.\n",
      "  final[column] = final[column].str.replace('.', '')\n"
     ]
    }
   ],
   "source": [
    "for column in final[['Titulados superiores i CFGS',\n",
    "                     'Poblacion > 65 años',\n",
    "                     'Renta familiar', \n",
    "                     'index',\n",
    "                     'Numero de parados']]:\n",
    "\n",
    "    final[column] = final[column].str.replace('.', '')\n",
    "    final[column] = final[column].str.replace(',', '.').astype(float)\n",
    "\n"
   ]
  },
  {
   "cell_type": "code",
   "execution_count": 19,
   "id": "d1c4c7aa",
   "metadata": {},
   "outputs": [
    {
     "name": "stdout",
     "output_type": "stream",
     "text": [
      "<class 'pandas.core.frame.DataFrame'>\n",
      "RangeIndex: 73 entries, 0 to 72\n",
      "Data columns (total 6 columns):\n",
      " #   Column                       Non-Null Count  Dtype  \n",
      "---  ------                       --------------  -----  \n",
      " 0   Nombre del barrio            73 non-null     object \n",
      " 1   Titulados superiores i CFGS  73 non-null     float64\n",
      " 2   Poblacion > 65 años          73 non-null     float64\n",
      " 3   Renta familiar               73 non-null     float64\n",
      " 4   index                        73 non-null     float64\n",
      " 5   Numero de parados            73 non-null     float64\n",
      "dtypes: float64(5), object(1)\n",
      "memory usage: 3.5+ KB\n"
     ]
    }
   ],
   "source": [
    "final.info()"
   ]
  },
  {
   "cell_type": "code",
   "execution_count": 20,
   "id": "4f5e4e6d",
   "metadata": {},
   "outputs": [
    {
     "data": {
      "text/html": [
       "<div>\n",
       "<style scoped>\n",
       "    .dataframe tbody tr th:only-of-type {\n",
       "        vertical-align: middle;\n",
       "    }\n",
       "\n",
       "    .dataframe tbody tr th {\n",
       "        vertical-align: top;\n",
       "    }\n",
       "\n",
       "    .dataframe thead th {\n",
       "        text-align: right;\n",
       "    }\n",
       "</style>\n",
       "<table border=\"1\" class=\"dataframe\">\n",
       "  <thead>\n",
       "    <tr style=\"text-align: right;\">\n",
       "      <th></th>\n",
       "      <th>Nombre del barrio</th>\n",
       "      <th>Titulados superiores i CFGS</th>\n",
       "      <th>Poblacion &gt; 65 años</th>\n",
       "      <th>Renta familiar</th>\n",
       "      <th>index</th>\n",
       "      <th>Numero de parados</th>\n",
       "    </tr>\n",
       "  </thead>\n",
       "  <tbody>\n",
       "    <tr>\n",
       "      <th>0</th>\n",
       "      <td>Barri el Raval</td>\n",
       "      <td>27.2</td>\n",
       "      <td>31.9</td>\n",
       "      <td>71.2</td>\n",
       "      <td>50.7</td>\n",
       "      <td>3074.0</td>\n",
       "    </tr>\n",
       "    <tr>\n",
       "      <th>1</th>\n",
       "      <td>Barri el Barri Gòtic</td>\n",
       "      <td>32.7</td>\n",
       "      <td>30.2</td>\n",
       "      <td>106.1</td>\n",
       "      <td>50.2</td>\n",
       "      <td>892.0</td>\n",
       "    </tr>\n",
       "    <tr>\n",
       "      <th>2</th>\n",
       "      <td>Barri la Barceloneta</td>\n",
       "      <td>30.6</td>\n",
       "      <td>32.8</td>\n",
       "      <td>79.6</td>\n",
       "      <td>58.1</td>\n",
       "      <td>978.0</td>\n",
       "    </tr>\n",
       "    <tr>\n",
       "      <th>3</th>\n",
       "      <td>Barri Sant Pere, Santa Caterina i</td>\n",
       "      <td>788.0</td>\n",
       "      <td>6.3</td>\n",
       "      <td>1346.0</td>\n",
       "      <td>33.6</td>\n",
       "      <td>28.1</td>\n",
       "    </tr>\n",
       "    <tr>\n",
       "      <th>4</th>\n",
       "      <td>Barri el Fort Pienc</td>\n",
       "      <td>40.4</td>\n",
       "      <td>25.3</td>\n",
       "      <td>106.5</td>\n",
       "      <td>52.3</td>\n",
       "      <td>1156.0</td>\n",
       "    </tr>\n",
       "  </tbody>\n",
       "</table>\n",
       "</div>"
      ],
      "text/plain": [
       "                   Nombre del barrio  Titulados superiores i CFGS  \\\n",
       "0                     Barri el Raval                         27.2   \n",
       "1               Barri el Barri Gòtic                         32.7   \n",
       "2               Barri la Barceloneta                         30.6   \n",
       "3  Barri Sant Pere, Santa Caterina i                        788.0   \n",
       "4                Barri el Fort Pienc                         40.4   \n",
       "\n",
       "   Poblacion > 65 años  Renta familiar  index  Numero de parados  \n",
       "0                 31.9            71.2   50.7             3074.0  \n",
       "1                 30.2           106.1   50.2              892.0  \n",
       "2                 32.8            79.6   58.1              978.0  \n",
       "3                  6.3          1346.0   33.6               28.1  \n",
       "4                 25.3           106.5   52.3             1156.0  "
      ]
     },
     "execution_count": 20,
     "metadata": {},
     "output_type": "execute_result"
    }
   ],
   "source": [
    "final.head()"
   ]
  },
  {
   "cell_type": "code",
   "execution_count": 22,
   "id": "5b9966e1",
   "metadata": {},
   "outputs": [
    {
     "data": {
      "image/png": "[encoded data removed]",
      "text/plain": [
       "<Figure size 864x432 with 6 Axes>"
      ]
     },
     "metadata": {
      "needs_background": "light"
     },
     "output_type": "display_data"
    }
   ],
   "source": [
    "final.hist(figsize=(12,6))\n",
    "plt.tight_layout()"
   ]
  },
  {
   "cell_type": "code",
   "execution_count": 33,
   "id": "92d3c61d",
   "metadata": {},
   "outputs": [
    {
     "data": {
      "image/png": "[encoded data removed]",
      "text/plain": [
       "<Figure size 1008x1008 with 5 Axes>"
      ]
     },
     "metadata": {
      "needs_background": "light"
     },
     "output_type": "display_data"
    }
   ],
   "source": [
    "# Set up the matplotlib figure\n",
    "f, (ax1, ax2, ax3, ax4, ax5) = plt.subplots(5, 1, figsize=(14, 14), sharex=True)\n",
    "\n",
    "\n",
    "x = final['Nombre del barrio']\n",
    "y1 = final['Titulados superiores i CFGS']\n",
    "sns.barplot(x=x, y=y1, palette=\"deep\", ax=ax1)\n",
    "ax1.axhline(0, color=\"k\", clip_on=False)\n",
    "ax1.set_ylabel(\"Titulados\")\n",
    "\n",
    "\n",
    "y2 = final['Poblacion > 65 años']\n",
    "sns.barplot(x=x, y=y2, palette=\"deep\", ax=ax2)\n",
    "ax2.axhline(0, color=\"k\", clip_on=False)\n",
    "ax2.set_ylabel(\"Poblacion > 65 años\")\n",
    "\n",
    "\n",
    "y3 = final['Renta familiar']\n",
    "sns.barplot(x=x, y=y3, palette=\"deep\", ax=ax3)\n",
    "ax3.axhline(0, color=\"k\", clip_on=False)\n",
    "ax3.set_ylabel(\"Renta familiar\")\n",
    "\n",
    "\n",
    "y4 = final['index']\n",
    "sns.barplot(x=x, y=y4, palette=\"deep\", ax=ax4)\n",
    "ax4.axhline(0, color=\"k\", clip_on=False)\n",
    "ax4.set_ylabel(\"index\")\n",
    "\n",
    "\n",
    "y5 = final['Numero de parados']\n",
    "sns.barplot(x=x, y=y5, palette=\"deep\", ax=ax5)\n",
    "ax5.axhline(0, color=\"k\", clip_on=False)\n",
    "ax5.set_ylabel(\"Numero de parados\")\n",
    "\n",
    "# Finalize the plot\n",
    "sns.despine(bottom=True)\n",
    "plt.xticks(rotation = 90)\n",
    "plt.setp(f.axes, yticks=[])\n",
    "plt.tight_layout(h_pad=2)"
   ]
  },
  {
   "cell_type": "markdown",
   "id": "f540bbd0",
   "metadata": {},
   "source": [
    "**Guardar como CSV y JSON**"
   ]
  },
  {
   "cell_type": "code",
   "execution_count": 35,
   "id": "411e459f",
   "metadata": {},
   "outputs": [],
   "source": [
    "#save as csv \n",
    "final.to_csv(\"data_barrios.csv\", index = False)\n",
    "\n",
    "#save as json \n",
    "final.to_json(\"data_barrios.json\",orient='split', index = False)"
   ]
  },
  {
   "cell_type": "code",
   "execution_count": null,
   "id": "0fc44858",
   "metadata": {},
   "outputs": [],
   "source": []
  }
 ],
 "metadata": {
  "kernelspec": {
   "display_name": "Python 3 (ipykernel)",
   "language": "python",
   "name": "python3"
  },
  "language_info": {
   "codemirror_mode": {
    "name": "ipython",
    "version": 3
   },
   "file_extension": ".py",
   "mimetype": "text/x-python",
   "name": "python",
   "nbconvert_exporter": "python",
   "pygments_lexer": "ipython3",
   "version": "3.9.7"
  }
 },
 "nbformat": 4,
 "nbformat_minor": 5
}
